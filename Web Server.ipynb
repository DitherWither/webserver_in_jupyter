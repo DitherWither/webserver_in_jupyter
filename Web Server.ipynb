{
 "cells": [
  {
   "cell_type": "markdown",
   "id": "0c74afb0-bc94-4d0a-ac27-88d21b4dee5d",
   "metadata": {},
   "source": [
    "# Flask demo\n",
    "In this notebook, I will try to run a flask web server inside a jupyter notebook\n",
    "\n",
    "I have no idea if it is possible, but let's find out"
   ]
  },
  {
   "cell_type": "code",
   "execution_count": null,
   "id": "41e0cff9-f0ba-4704-80eb-c8fa931f46e6",
   "metadata": {},
   "outputs": [],
   "source": [
    "import flask\n",
    "from flask import Flask\n",
    "\n",
    "app = Flask(__name__)\n",
    "\n",
    "@app.route('/')\n",
    "def index():\n",
    "    return \"Hello from Jupyter Notebook\"\n",
    "\n"
   ]
  },
  {
   "cell_type": "markdown",
   "id": "280cdfd6-3252-4aeb-bc6e-9f08c3544a86",
   "metadata": {},
   "source": [
    "## Attempt 2\n",
    "The last test did not work.\n",
    "\n",
    "The reason being that a flask application needs to be run as `flask run` as opposed to just being executed as a python script.\n",
    "\n",
    "This time, I will attempt using `http.server`"
   ]
  },
  {
   "cell_type": "code",
   "execution_count": null,
   "id": "41ae1b77-3e24-4663-9d55-0ca8aca5fabe",
   "metadata": {},
   "outputs": [
    {
     "name": "stdout",
     "output_type": "stream",
     "text": [
      "Server started http://localhost:8080\n"
     ]
    },
    {
     "name": "stderr",
     "output_type": "stream",
     "text": [
      "127.0.0.1 - - [16/Jan/2023 23:16:53] \"GET / HTTP/1.1\" 200 -\n"
     ]
    }
   ],
   "source": [
    "from http.server import BaseHTTPRequestHandler, HTTPServer\n",
    "import time\n",
    "\n",
    "hostName = \"localhost\"\n",
    "serverPort = 8080\n",
    "\n",
    "class MyServer(BaseHTTPRequestHandler):\n",
    "    def do_GET(self):\n",
    "        self.send_response(200)\n",
    "        self.send_header(\"Content-type\", \"text/html\")\n",
    "        self.end_headers()\n",
    "        self.wfile.write(bytes(\"<h1>Hello From Jupyter Notebook</h1>\", 'utf-8'))\n",
    "\n",
    "\n",
    "webServer = HTTPServer((hostName, serverPort), MyServer)\n",
    "print(\"Server started http://%s:%s\" % (hostName, serverPort))\n",
    "\n",
    "try:\n",
    "    webServer.serve_forever()\n",
    "except KeyboardInterrupt:\n",
    "    pass\n",
    "\n",
    "webServer.server_close()\n",
    "print(\"Server stopped.\")"
   ]
  },
  {
   "cell_type": "markdown",
   "id": "b41a0a55-6265-4af7-b9a4-2ca4331963e9",
   "metadata": {},
   "source": [
    "# Attempt 2 was a success."
   ]
  }
 ],
 "metadata": {
  "kernelspec": {
   "display_name": "Python 3 (ipykernel)",
   "language": "python",
   "name": "python3"
  },
  "language_info": {
   "codemirror_mode": {
    "name": "ipython",
    "version": 3
   },
   "file_extension": ".py",
   "mimetype": "text/x-python",
   "name": "python",
   "nbconvert_exporter": "python",
   "pygments_lexer": "ipython3",
   "version": "3.11.1"
  }
 },
 "nbformat": 4,
 "nbformat_minor": 5
}
